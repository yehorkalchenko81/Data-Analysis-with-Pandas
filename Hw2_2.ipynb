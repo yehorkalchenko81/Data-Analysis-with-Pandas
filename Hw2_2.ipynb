{
 "cells": [
  {
   "cell_type": "code",
   "execution_count": 2,
   "metadata": {},
   "outputs": [],
   "source": [
    "import pandas as pd\n",
    "\n",
    "table = pd.read_csv('2017_jun_final.csv')"
   ]
  },
  {
   "cell_type": "code",
   "execution_count": 3,
   "metadata": {},
   "outputs": [
    {
     "data": {
      "text/html": [
       "<div>\n",
       "<style scoped>\n",
       "    .dataframe tbody tr th:only-of-type {\n",
       "        vertical-align: middle;\n",
       "    }\n",
       "\n",
       "    .dataframe tbody tr th {\n",
       "        vertical-align: top;\n",
       "    }\n",
       "\n",
       "    .dataframe thead th {\n",
       "        text-align: right;\n",
       "    }\n",
       "</style>\n",
       "<table border=\"1\" class=\"dataframe\">\n",
       "  <thead>\n",
       "    <tr style=\"text-align: right;\">\n",
       "      <th></th>\n",
       "      <th>N</th>\n",
       "      <th>Посада</th>\n",
       "      <th>Мова програмування</th>\n",
       "      <th>Спеціалізація</th>\n",
       "      <th>Загальний досвід роботи</th>\n",
       "      <th>Досвід роботи на поточному місці</th>\n",
       "      <th>Зарплата на місяць</th>\n",
       "      <th>Зміна зарплати за 12 місяців</th>\n",
       "      <th>Місто</th>\n",
       "      <th>Розмір компанії</th>\n",
       "      <th>...</th>\n",
       "      <th>Ще студент</th>\n",
       "      <th>Рівень англійської</th>\n",
       "      <th>Предметна область</th>\n",
       "      <th>Дата заповнення</th>\n",
       "      <th>User.Agent</th>\n",
       "      <th>exp</th>\n",
       "      <th>current_job_exp</th>\n",
       "      <th>salary</th>\n",
       "      <th>Валюта</th>\n",
       "      <th>cls</th>\n",
       "    </tr>\n",
       "  </thead>\n",
       "  <tbody>\n",
       "    <tr>\n",
       "      <th>0</th>\n",
       "      <td>1</td>\n",
       "      <td>Junior QA engineer</td>\n",
       "      <td>NaN</td>\n",
       "      <td>Manual QA</td>\n",
       "      <td>0.5</td>\n",
       "      <td>0.5</td>\n",
       "      <td>400</td>\n",
       "      <td>0</td>\n",
       "      <td>Харків</td>\n",
       "      <td>до 10 осіб</td>\n",
       "      <td>...</td>\n",
       "      <td>True</td>\n",
       "      <td>Pre-intermediate (нище середнього)</td>\n",
       "      <td>iOS,eCommerce</td>\n",
       "      <td>12/06/2017 12:38:08</td>\n",
       "      <td>Mozilla/5.0 (Windows NT 10.0; Win64; x64) Appl...</td>\n",
       "      <td>0.5</td>\n",
       "      <td>0.5</td>\n",
       "      <td>400</td>\n",
       "      <td>NaN</td>\n",
       "      <td>QA</td>\n",
       "    </tr>\n",
       "    <tr>\n",
       "      <th>1</th>\n",
       "      <td>2</td>\n",
       "      <td>Junior QA engineer</td>\n",
       "      <td>NaN</td>\n",
       "      <td>Manual QA</td>\n",
       "      <td>менше 3 місяців</td>\n",
       "      <td>менше 3 місяців</td>\n",
       "      <td>430</td>\n",
       "      <td>130</td>\n",
       "      <td>Харків</td>\n",
       "      <td>більше 1000 осіб</td>\n",
       "      <td>...</td>\n",
       "      <td>True</td>\n",
       "      <td>Upper-Intermediate (вище середнього)</td>\n",
       "      <td>Веб-розробка</td>\n",
       "      <td>12/06/2017 12:42:51</td>\n",
       "      <td>Mozilla/5.0 (iPad; CPU OS 10_2_1 like Mac OS X...</td>\n",
       "      <td>0.0</td>\n",
       "      <td>0.0</td>\n",
       "      <td>430</td>\n",
       "      <td>NaN</td>\n",
       "      <td>QA</td>\n",
       "    </tr>\n",
       "    <tr>\n",
       "      <th>2</th>\n",
       "      <td>3</td>\n",
       "      <td>Software Engineer</td>\n",
       "      <td>C#/.NET</td>\n",
       "      <td>NaN</td>\n",
       "      <td>4</td>\n",
       "      <td>1</td>\n",
       "      <td>2500</td>\n",
       "      <td>800</td>\n",
       "      <td>Київ</td>\n",
       "      <td>до 1000 осіб</td>\n",
       "      <td>...</td>\n",
       "      <td>False</td>\n",
       "      <td>Intermediate (середній)</td>\n",
       "      <td>Веб-розробка,Корпоративні системи</td>\n",
       "      <td>12/06/2017 13:02:47</td>\n",
       "      <td>Mozilla/5.0 (Windows NT 10.0; Win64; x64) Appl...</td>\n",
       "      <td>4.0</td>\n",
       "      <td>1.0</td>\n",
       "      <td>2500</td>\n",
       "      <td>NaN</td>\n",
       "      <td>DEV</td>\n",
       "    </tr>\n",
       "    <tr>\n",
       "      <th>3</th>\n",
       "      <td>4</td>\n",
       "      <td>Software Engineer</td>\n",
       "      <td>JavaScript</td>\n",
       "      <td>NaN</td>\n",
       "      <td>5</td>\n",
       "      <td>4</td>\n",
       "      <td>2000</td>\n",
       "      <td>400</td>\n",
       "      <td>Одеса</td>\n",
       "      <td>до 200 осіб</td>\n",
       "      <td>...</td>\n",
       "      <td>False</td>\n",
       "      <td>Pre-intermediate (нище середнього)</td>\n",
       "      <td>Desktop Applications,Веб-розробка</td>\n",
       "      <td>12/06/2017 13:03:01</td>\n",
       "      <td>Mozilla/5.0 (Windows NT 6.1; Win64; x64) Apple...</td>\n",
       "      <td>5.0</td>\n",
       "      <td>4.0</td>\n",
       "      <td>2000</td>\n",
       "      <td>NaN</td>\n",
       "      <td>DEV</td>\n",
       "    </tr>\n",
       "    <tr>\n",
       "      <th>4</th>\n",
       "      <td>5</td>\n",
       "      <td>Senior Software Engineer</td>\n",
       "      <td>JavaScript</td>\n",
       "      <td>NaN</td>\n",
       "      <td>10 і більше років</td>\n",
       "      <td>0.5</td>\n",
       "      <td>4500</td>\n",
       "      <td>500</td>\n",
       "      <td>Інше</td>\n",
       "      <td>до 10 осіб</td>\n",
       "      <td>...</td>\n",
       "      <td>False</td>\n",
       "      <td>Intermediate (середній)</td>\n",
       "      <td>Desktop Applications,Веб-розробка</td>\n",
       "      <td>12/06/2017 13:03:47</td>\n",
       "      <td>Mozilla/5.0 (iPhone; CPU iPhone OS 10_3_2 like...</td>\n",
       "      <td>10.0</td>\n",
       "      <td>0.5</td>\n",
       "      <td>4500</td>\n",
       "      <td>NaN</td>\n",
       "      <td>DEV</td>\n",
       "    </tr>\n",
       "  </tbody>\n",
       "</table>\n",
       "<p>5 rows × 25 columns</p>\n",
       "</div>"
      ],
      "text/plain": [
       "   N                    Посада Мова програмування Спеціалізація  \\\n",
       "0  1        Junior QA engineer                NaN     Manual QA   \n",
       "1  2        Junior QA engineer                NaN     Manual QA   \n",
       "2  3         Software Engineer            C#/.NET           NaN   \n",
       "3  4         Software Engineer         JavaScript           NaN   \n",
       "4  5  Senior Software Engineer         JavaScript           NaN   \n",
       "\n",
       "  Загальний досвід роботи Досвід роботи на поточному місці  \\\n",
       "0                     0.5                              0.5   \n",
       "1         менше 3 місяців                  менше 3 місяців   \n",
       "2                       4                                1   \n",
       "3                       5                                4   \n",
       "4       10 і більше років                              0.5   \n",
       "\n",
       "   Зарплата на місяць  Зміна зарплати за 12 місяців   Місто   Розмір компанії  \\\n",
       "0                 400                             0  Харків        до 10 осіб   \n",
       "1                 430                           130  Харків  більше 1000 осіб   \n",
       "2                2500                           800    Київ      до 1000 осіб   \n",
       "3                2000                           400   Одеса       до 200 осіб   \n",
       "4                4500                           500    Інше        до 10 осіб   \n",
       "\n",
       "   ... Ще студент                    Рівень англійської  \\\n",
       "0  ...       True    Pre-intermediate (нище середнього)   \n",
       "1  ...       True  Upper-Intermediate (вище середнього)   \n",
       "2  ...      False               Intermediate (середній)   \n",
       "3  ...      False    Pre-intermediate (нище середнього)   \n",
       "4  ...      False               Intermediate (середній)   \n",
       "\n",
       "                   Предметна область      Дата заповнення  \\\n",
       "0                      iOS,eCommerce  12/06/2017 12:38:08   \n",
       "1                       Веб-розробка  12/06/2017 12:42:51   \n",
       "2  Веб-розробка,Корпоративні системи  12/06/2017 13:02:47   \n",
       "3  Desktop Applications,Веб-розробка  12/06/2017 13:03:01   \n",
       "4  Desktop Applications,Веб-розробка  12/06/2017 13:03:47   \n",
       "\n",
       "                                          User.Agent   exp current_job_exp  \\\n",
       "0  Mozilla/5.0 (Windows NT 10.0; Win64; x64) Appl...   0.5             0.5   \n",
       "1  Mozilla/5.0 (iPad; CPU OS 10_2_1 like Mac OS X...   0.0             0.0   \n",
       "2  Mozilla/5.0 (Windows NT 10.0; Win64; x64) Appl...   4.0             1.0   \n",
       "3  Mozilla/5.0 (Windows NT 6.1; Win64; x64) Apple...   5.0             4.0   \n",
       "4  Mozilla/5.0 (iPhone; CPU iPhone OS 10_3_2 like...  10.0             0.5   \n",
       "\n",
       "  salary Валюта  cls  \n",
       "0    400    NaN   QA  \n",
       "1    430    NaN   QA  \n",
       "2   2500    NaN  DEV  \n",
       "3   2000    NaN  DEV  \n",
       "4   4500    NaN  DEV  \n",
       "\n",
       "[5 rows x 25 columns]"
      ]
     },
     "execution_count": 3,
     "metadata": {},
     "output_type": "execute_result"
    }
   ],
   "source": [
    "table.head()"
   ]
  },
  {
   "cell_type": "code",
   "execution_count": 4,
   "metadata": {},
   "outputs": [
    {
     "data": {
      "text/plain": [
       "(8704, 25)"
      ]
     },
     "execution_count": 4,
     "metadata": {},
     "output_type": "execute_result"
    }
   ],
   "source": [
    "table.shape"
   ]
  },
  {
   "cell_type": "code",
   "execution_count": 5,
   "metadata": {},
   "outputs": [
    {
     "data": {
      "text/plain": [
       "N                                     int64\n",
       "Посада                               object\n",
       "Мова програмування                   object\n",
       "Спеціалізація                        object\n",
       "Загальний досвід роботи              object\n",
       "Досвід роботи на поточному місці     object\n",
       "Зарплата на місяць                    int64\n",
       "Зміна зарплати за 12 місяців          int64\n",
       "Місто                                object\n",
       "Розмір компанії                      object\n",
       "Тип компанії                         object\n",
       "Стать                                object\n",
       "Вік                                   int64\n",
       "Освіта                               object\n",
       "Університет                          object\n",
       "Ще студент                             bool\n",
       "Рівень англійської                   object\n",
       "Предметна область                    object\n",
       "Дата заповнення                      object\n",
       "User.Agent                           object\n",
       "exp                                 float64\n",
       "current_job_exp                     float64\n",
       "salary                                int64\n",
       "Валюта                               object\n",
       "cls                                  object\n",
       "dtype: object"
      ]
     },
     "execution_count": 5,
     "metadata": {},
     "output_type": "execute_result"
    }
   ],
   "source": [
    "table.dtypes"
   ]
  },
  {
   "cell_type": "code",
   "execution_count": 6,
   "metadata": {},
   "outputs": [
    {
     "data": {
      "text/plain": [
       "N                                      0\n",
       "Посада                                 0\n",
       "Мова програмування                  3850\n",
       "Спеціалізація                       7219\n",
       "Загальний досвід роботи                0\n",
       "Досвід роботи на поточному місці       0\n",
       "Зарплата на місяць                     0\n",
       "Зміна зарплати за 12 місяців           0\n",
       "Місто                                  0\n",
       "Розмір компанії                        0\n",
       "Тип компанії                           0\n",
       "Стать                                  0\n",
       "Вік                                    0\n",
       "Освіта                                 0\n",
       "Університет                          358\n",
       "Ще студент                             0\n",
       "Рівень англійської                     0\n",
       "Предметна область                    223\n",
       "Дата заповнення                        0\n",
       "User.Agent                             0\n",
       "exp                                    0\n",
       "current_job_exp                        0\n",
       "salary                                 0\n",
       "Валюта                              8694\n",
       "cls                                 1574\n",
       "dtype: int64"
      ]
     },
     "execution_count": 6,
     "metadata": {},
     "output_type": "execute_result"
    }
   ],
   "source": [
    "table.isnull().sum()"
   ]
  },
  {
   "cell_type": "code",
   "execution_count": 7,
   "metadata": {},
   "outputs": [],
   "source": [
    "nan_columns = table.columns[table.isnull().any()]\n",
    "non_prog_lang_columns = nan_columns.to_list()\n",
    "non_prog_lang_columns.remove('Мова програмування')\n",
    "table.drop(non_prog_lang_columns, axis=1, inplace=True)"
   ]
  },
  {
   "cell_type": "code",
   "execution_count": 8,
   "metadata": {},
   "outputs": [
    {
     "data": {
      "text/plain": [
       "N                                      0\n",
       "Посада                                 0\n",
       "Мова програмування                  3850\n",
       "Загальний досвід роботи                0\n",
       "Досвід роботи на поточному місці       0\n",
       "Зарплата на місяць                     0\n",
       "Зміна зарплати за 12 місяців           0\n",
       "Місто                                  0\n",
       "Розмір компанії                        0\n",
       "Тип компанії                           0\n",
       "Стать                                  0\n",
       "Вік                                    0\n",
       "Освіта                                 0\n",
       "Ще студент                             0\n",
       "Рівень англійської                     0\n",
       "Дата заповнення                        0\n",
       "User.Agent                             0\n",
       "exp                                    0\n",
       "current_job_exp                        0\n",
       "salary                                 0\n",
       "dtype: int64"
      ]
     },
     "execution_count": 8,
     "metadata": {},
     "output_type": "execute_result"
    }
   ],
   "source": [
    "table.isnull().sum()"
   ]
  },
  {
   "cell_type": "code",
   "execution_count": 9,
   "metadata": {},
   "outputs": [],
   "source": [
    "table.dropna(inplace=True)"
   ]
  },
  {
   "cell_type": "code",
   "execution_count": 10,
   "metadata": {},
   "outputs": [
    {
     "data": {
      "text/plain": [
       "(4854, 20)"
      ]
     },
     "execution_count": 10,
     "metadata": {},
     "output_type": "execute_result"
    }
   ],
   "source": [
    "table.shape"
   ]
  },
  {
   "cell_type": "code",
   "execution_count": 11,
   "metadata": {},
   "outputs": [],
   "source": [
    "python_data = table[table['Мова програмування'] == 'Python']"
   ]
  },
  {
   "cell_type": "code",
   "execution_count": 12,
   "metadata": {},
   "outputs": [
    {
     "data": {
      "text/plain": [
       "(207, 20)"
      ]
     },
     "execution_count": 12,
     "metadata": {},
     "output_type": "execute_result"
    }
   ],
   "source": [
    "python_data.shape"
   ]
  },
  {
   "cell_type": "code",
   "execution_count": 13,
   "metadata": {},
   "outputs": [
    {
     "name": "stderr",
     "output_type": "stream",
     "text": [
      "C:\\Users\\egork\\AppData\\Local\\Temp\\ipykernel_21876\\2327351425.py:1: DeprecationWarning: DataFrameGroupBy.apply operated on the grouping columns. This behavior is deprecated, and in a future version of pandas the grouping columns will be excluded from the operation. Either pass `include_groups=False` to exclude the groupings or explicitly select the grouping columns after groupby to silence this warning.\n",
      "  grouped_table_by_posada = table.groupby(by='Посада').apply(lambda x: x)\n"
     ]
    }
   ],
   "source": [
    "grouped_table_by_posada = table.groupby(by='Посада').apply(lambda x: x)"
   ]
  },
  {
   "cell_type": "code",
   "execution_count": 14,
   "metadata": {},
   "outputs": [
    {
     "data": {
      "text/plain": [
       "min       75\n",
       "max    18000\n",
       "Name: Зарплата на місяць, dtype: int64"
      ]
     },
     "execution_count": 14,
     "metadata": {},
     "output_type": "execute_result"
    }
   ],
   "source": [
    "grouped_table_by_posada['Зарплата на місяць'].agg(['min', 'max'])"
   ]
  },
  {
   "cell_type": "code",
   "execution_count": 15,
   "metadata": {},
   "outputs": [
    {
     "name": "stdout",
     "output_type": "stream",
     "text": [
      "1883.371034198599\n"
     ]
    }
   ],
   "source": [
    "def fill_avg_salary(data):\n",
    "    average = data['Зарплата на місяць'].mean()\n",
    "    return average\n",
    "\n",
    "\n",
    "print(fill_avg_salary(grouped_table_by_posada))"
   ]
  },
  {
   "cell_type": "code",
   "execution_count": 16,
   "metadata": {},
   "outputs": [
    {
     "name": "stdout",
     "output_type": "stream",
     "text": [
      "         N                    Посада Мова програмування  \\\n",
      "2        3         Software Engineer            C#/.NET   \n",
      "3        4         Software Engineer         JavaScript   \n",
      "4        5  Senior Software Engineer         JavaScript   \n",
      "6        7  Junior Software Engineer            C#/.NET   \n",
      "7        8  Senior Software Engineer                C++   \n",
      "...    ...                       ...                ...   \n",
      "8692  8693         Software Engineer               Java   \n",
      "8694  8695  Junior Software Engineer            C#/.NET   \n",
      "8695  8696         Software Engineer             Python   \n",
      "8701  8702  Junior Software Engineer         Ruby/Rails   \n",
      "8703  8704  Senior Software Engineer               Java   \n",
      "\n",
      "     Загальний досвід роботи Досвід роботи на поточному місці  \\\n",
      "2                          4                                1   \n",
      "3                          5                                4   \n",
      "4          10 і більше років                              0.5   \n",
      "6                          1                  менше 3 місяців   \n",
      "7                          6                                1   \n",
      "...                      ...                              ...   \n",
      "8692                       5                                1   \n",
      "8694                       1                                1   \n",
      "8695                       1                              0.5   \n",
      "8701                       1                              0.5   \n",
      "8703                       7                                2   \n",
      "\n",
      "      Зарплата на місяць  Зміна зарплати за 12 місяців         Місто  \\\n",
      "2                   2500                           800          Київ   \n",
      "3                   2000                           400         Одеса   \n",
      "4                   4500                           500          Інше   \n",
      "6                    600                           100  Хмельницький   \n",
      "7                   3300                           500          Київ   \n",
      "...                  ...                           ...           ...   \n",
      "8692                3500                           650     Віддалено   \n",
      "8694                 550                           550        Харків   \n",
      "8695                1500                          1000          Київ   \n",
      "8701                 800                           500         Львів   \n",
      "8703                5000                           800         Одеса   \n",
      "\n",
      "     Розмір компанії   Тип компанії  ... Вік             Освіта Ще студент  \\\n",
      "2       до 1000 осіб  Аутсорсингова  ...  26               Вища      False   \n",
      "3        до 200 осіб     Продуктова  ...  30            Середня      False   \n",
      "4         до 10 осіб     Продуктова  ...  30  Технікум / Коледж      False   \n",
      "6         до 50 осіб  Аутсорсингова  ...  23               Вища      False   \n",
      "7         до 10 осіб     Продуктова  ...  28               Вища      False   \n",
      "...              ...            ...  ...  ..                ...        ...   \n",
      "8692     до 200 осіб  Аутсорсингова  ...  28               Вища      False   \n",
      "8694     до 200 осіб  Аутсорсингова  ...  23               Вища      False   \n",
      "8695      до 10 осіб        Стартап  ...  29               Вища      False   \n",
      "8701      до 10 осіб  Аутстафінгова  ...  30       Неповна Вища      False   \n",
      "8703    до 1000 осіб     Продуктова  ...  28               Вища      False   \n",
      "\n",
      "                        Рівень англійської      Дата заповнення  \\\n",
      "2                  Intermediate (середній)  12/06/2017 13:02:47   \n",
      "3       Pre-intermediate (нище середнього)  12/06/2017 13:03:01   \n",
      "4                  Intermediate (середній)  12/06/2017 13:03:47   \n",
      "6       Pre-intermediate (нище середнього)  12/06/2017 13:04:26   \n",
      "7     Upper-Intermediate (вище середнього)  12/06/2017 13:04:27   \n",
      "...                                    ...                  ...   \n",
      "8692               Intermediate (середній)  12/07/2017 13:26:49   \n",
      "8694    Pre-intermediate (нище середнього)  12/07/2017 14:14:33   \n",
      "8695               Intermediate (середній)  12/07/2017 14:39:21   \n",
      "8701  Upper-Intermediate (вище середнього)  12/07/2017 17:32:26   \n",
      "8703  Upper-Intermediate (вище середнього)  12/07/2017 21:28:57   \n",
      "\n",
      "                                             User.Agent   exp  \\\n",
      "2     Mozilla/5.0 (Windows NT 10.0; Win64; x64) Appl...   4.0   \n",
      "3     Mozilla/5.0 (Windows NT 6.1; Win64; x64) Apple...   5.0   \n",
      "4     Mozilla/5.0 (iPhone; CPU iPhone OS 10_3_2 like...  10.0   \n",
      "6     Mozilla/5.0 (Windows NT 10.0; Win64; x64) Appl...   1.0   \n",
      "7     Mozilla/5.0 (X11; Ubuntu; Linux x86_64; rv:53....   6.0   \n",
      "...                                                 ...   ...   \n",
      "8692  Mozilla/5.0 (Macintosh; Intel Mac OS X 10_12_5...   5.0   \n",
      "8694  Mozilla/5.0 (Windows NT 10.0; WOW64; rv:54.0) ...   1.0   \n",
      "8695  Mozilla/5.0 (X11; Linux x86_64) AppleWebKit/53...   1.0   \n",
      "8701  Mozilla/5.0 (X11; Linux x86_64) AppleWebKit/53...   1.0   \n",
      "8703  Mozilla/5.0 (iPad; CPU OS 10_3_2 like Mac OS X...   7.0   \n",
      "\n",
      "      current_job_exp  salary          avg  \n",
      "2                 1.0    2500  2000.000000  \n",
      "3                 4.0    2000   457.000000  \n",
      "4                 0.5    4500   605.658594  \n",
      "6                 0.0     600  3243.200926  \n",
      "7                 1.0    3300  1678.630074  \n",
      "...               ...     ...          ...  \n",
      "8692              1.0    3500          NaN  \n",
      "8694              1.0     550          NaN  \n",
      "8695              0.5    1500          NaN  \n",
      "8701              0.5     800          NaN  \n",
      "8703              2.0    5000          NaN  \n",
      "\n",
      "[4854 rows x 21 columns]\n",
      "count       6.000000\n",
      "mean     2061.927753\n",
      "std      1526.367589\n",
      "min       457.000000\n",
      "25%       873.901464\n",
      "50%      1839.315037\n",
      "75%      2932.400694\n",
      "max      4387.076923\n",
      "Name: avg, dtype: float64\n"
     ]
    },
    {
     "name": "stderr",
     "output_type": "stream",
     "text": [
      "C:\\Users\\egork\\AppData\\Local\\Temp\\ipykernel_21876\\766276382.py:1: DeprecationWarning: DataFrameGroupBy.apply operated on the grouping columns. This behavior is deprecated, and in a future version of pandas the grouping columns will be excluded from the operation. Either pass `include_groups=False` to exclude the groupings or explicitly select the grouping columns after groupby to silence this warning.\n",
      "  table['avg'] = table.groupby('Посада').apply(fill_avg_salary).reset_index(level=0, drop=True)\n"
     ]
    }
   ],
   "source": [
    "\n",
    "\n",
    "table['avg'] = table.groupby('Посада').apply(fill_avg_salary).reset_index(level=0, drop=True)\n",
    "print(table)\n",
    "\n",
    "avg_an_stat = table['avg'].describe()\n",
    "print(avg_an_stat)\n",
    "\n",
    "\n",
    "avg_an_stat.to_csv('updated_data.csv', index=True)"
   ]
  }
 ],
 "metadata": {
  "kernelspec": {
   "display_name": ".venv",
   "language": "python",
   "name": "python3"
  },
  "language_info": {
   "codemirror_mode": {
    "name": "ipython",
    "version": 3
   },
   "file_extension": ".py",
   "mimetype": "text/x-python",
   "name": "python",
   "nbconvert_exporter": "python",
   "pygments_lexer": "ipython3",
   "version": "3.12.3"
  }
 },
 "nbformat": 4,
 "nbformat_minor": 2
}
